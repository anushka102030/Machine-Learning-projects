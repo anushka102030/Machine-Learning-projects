{
 "cells": [
  {
   "cell_type": "code",
   "execution_count": 1,
   "id": "e3a2ac32",
   "metadata": {
    "_cell_guid": "b1076dfc-b9ad-4769-8c92-a6c4dae69d19",
    "_uuid": "8f2839f25d086af736a60e9eeb907d3b93b6e0e5",
    "execution": {
     "iopub.execute_input": "2023-05-12T15:44:03.559000Z",
     "iopub.status.busy": "2023-05-12T15:44:03.558540Z",
     "iopub.status.idle": "2023-05-12T15:44:03.579758Z",
     "shell.execute_reply": "2023-05-12T15:44:03.578358Z"
    },
    "papermill": {
     "duration": 0.029049,
     "end_time": "2023-05-12T15:44:03.582334",
     "exception": false,
     "start_time": "2023-05-12T15:44:03.553285",
     "status": "completed"
    },
    "tags": []
   },
   "outputs": [
    {
     "name": "stdout",
     "output_type": "stream",
     "text": [
      "/kaggle/input/spam-text-message-classification/SPAM text message 20170820 - Data.csv\n"
     ]
    }
   ],
   "source": [
    "# This Python 3 environment comes with many helpful analytics libraries installed\n",
    "# It is defined by the kaggle/python Docker image: https://github.com/kaggle/docker-python\n",
    "# For example, here's several helpful packages to load\n",
    "\n",
    "import numpy as np # linear algebra\n",
    "import pandas as pd # data processing, CSV file I/O (e.g. pd.read_csv)\n",
    "\n",
    "# Input data files are available in the read-only \"../input/\" directory\n",
    "# For example, running this (by clicking run or pressing Shift+Enter) will list all files under the input directory\n",
    "\n",
    "import os\n",
    "for dirname, _, filenames in os.walk('/kaggle/input'):\n",
    "    for filename in filenames:\n",
    "        print(os.path.join(dirname, filename))\n",
    "\n",
    "# You can write up to 20GB to the current directory (/kaggle/working/) that gets preserved as output when you create a version using \"Save & Run All\" \n",
    "# You can also write temporary files to /kaggle/temp/, but they won't be saved outside of the current session"
   ]
  },
  {
   "cell_type": "code",
   "execution_count": 2,
   "id": "d841c0d9",
   "metadata": {
    "execution": {
     "iopub.execute_input": "2023-05-12T15:44:03.590173Z",
     "iopub.status.busy": "2023-05-12T15:44:03.589804Z",
     "iopub.status.idle": "2023-05-12T15:44:03.665401Z",
     "shell.execute_reply": "2023-05-12T15:44:03.664227Z"
    },
    "papermill": {
     "duration": 0.082506,
     "end_time": "2023-05-12T15:44:03.668205",
     "exception": false,
     "start_time": "2023-05-12T15:44:03.585699",
     "status": "completed"
    },
    "tags": []
   },
   "outputs": [
    {
     "data": {
      "text/html": [
       "<div>\n",
       "<style scoped>\n",
       "    .dataframe tbody tr th:only-of-type {\n",
       "        vertical-align: middle;\n",
       "    }\n",
       "\n",
       "    .dataframe tbody tr th {\n",
       "        vertical-align: top;\n",
       "    }\n",
       "\n",
       "    .dataframe thead th {\n",
       "        text-align: right;\n",
       "    }\n",
       "</style>\n",
       "<table border=\"1\" class=\"dataframe\">\n",
       "  <thead>\n",
       "    <tr style=\"text-align: right;\">\n",
       "      <th></th>\n",
       "      <th>Category</th>\n",
       "      <th>Message</th>\n",
       "    </tr>\n",
       "  </thead>\n",
       "  <tbody>\n",
       "    <tr>\n",
       "      <th>0</th>\n",
       "      <td>0</td>\n",
       "      <td>Go until jurong point, crazy.. Available only ...</td>\n",
       "    </tr>\n",
       "    <tr>\n",
       "      <th>1</th>\n",
       "      <td>0</td>\n",
       "      <td>Ok lar... Joking wif u oni...</td>\n",
       "    </tr>\n",
       "    <tr>\n",
       "      <th>2</th>\n",
       "      <td>1</td>\n",
       "      <td>Free entry in 2 a wkly comp to win FA Cup fina...</td>\n",
       "    </tr>\n",
       "    <tr>\n",
       "      <th>3</th>\n",
       "      <td>0</td>\n",
       "      <td>U dun say so early hor... U c already then say...</td>\n",
       "    </tr>\n",
       "    <tr>\n",
       "      <th>4</th>\n",
       "      <td>0</td>\n",
       "      <td>Nah I don't think he goes to usf, he lives aro...</td>\n",
       "    </tr>\n",
       "  </tbody>\n",
       "</table>\n",
       "</div>"
      ],
      "text/plain": [
       "   Category                                            Message\n",
       "0         0  Go until jurong point, crazy.. Available only ...\n",
       "1         0                      Ok lar... Joking wif u oni...\n",
       "2         1  Free entry in 2 a wkly comp to win FA Cup fina...\n",
       "3         0  U dun say so early hor... U c already then say...\n",
       "4         0  Nah I don't think he goes to usf, he lives aro..."
      ]
     },
     "execution_count": 2,
     "metadata": {},
     "output_type": "execute_result"
    }
   ],
   "source": [
    "data = pd.read_csv('/kaggle/input/spam-text-message-classification/SPAM text message 20170820 - Data.csv')\n",
    "data = data.replace(to_replace=\"ham\", value=0)\n",
    "data = data.replace(to_replace=\"spam\", value=1)\n",
    "data.head()"
   ]
  },
  {
   "cell_type": "code",
   "execution_count": 3,
   "id": "6fe296f1",
   "metadata": {
    "execution": {
     "iopub.execute_input": "2023-05-12T15:44:03.676105Z",
     "iopub.status.busy": "2023-05-12T15:44:03.675701Z",
     "iopub.status.idle": "2023-05-12T15:44:11.930175Z",
     "shell.execute_reply": "2023-05-12T15:44:11.928691Z"
    },
    "papermill": {
     "duration": 8.26173,
     "end_time": "2023-05-12T15:44:11.933033",
     "exception": false,
     "start_time": "2023-05-12T15:44:03.671303",
     "status": "completed"
    },
    "tags": []
   },
   "outputs": [
    {
     "name": "stderr",
     "output_type": "stream",
     "text": [
      "/opt/conda/lib/python3.10/site-packages/scipy/__init__.py:146: UserWarning: A NumPy version >=1.16.5 and <1.23.0 is required for this version of SciPy (detected version 1.23.5\n",
      "  warnings.warn(f\"A NumPy version >={np_minversion} and <{np_maxversion}\"\n"
     ]
    }
   ],
   "source": [
    "# split data into train and test data\n",
    "import tensorflow as tf\n",
    "\n",
    "sentences = data['Message'].tolist()\n",
    "labels = data['Category'].tolist()\n",
    "\n",
    "\n",
    "#separate sentences and labels into training and test\n",
    "training_size = int(len(sentences) * 0.8)\n",
    "train_sentences = sentences[0:training_size]\n",
    "test_sentences = sentences[training_size:]\n",
    "train_labels = labels[0:training_size]\n",
    "test_labels = labels[training_size:]\n",
    "\n",
    "#make labels into numpy arrays for use with the network later\n",
    "train_labels_arr = np.array(train_labels)\n",
    "test_labels_arr = np.array(test_labels)\n"
   ]
  },
  {
   "cell_type": "code",
   "execution_count": 4,
   "id": "78cdd5d5",
   "metadata": {
    "execution": {
     "iopub.execute_input": "2023-05-12T15:44:11.941298Z",
     "iopub.status.busy": "2023-05-12T15:44:11.940583Z",
     "iopub.status.idle": "2023-05-12T15:44:12.065389Z",
     "shell.execute_reply": "2023-05-12T15:44:12.062084Z"
    },
    "papermill": {
     "duration": 0.132498,
     "end_time": "2023-05-12T15:44:12.068727",
     "exception": false,
     "start_time": "2023-05-12T15:44:11.936229",
     "status": "completed"
    },
    "tags": []
   },
   "outputs": [],
   "source": [
    "vocab_size = 1000\n",
    "embedding_dimension = 16\n",
    "max_length = 100\n",
    "trunc_type = 'post'\n",
    "padding_type = 'post'\n",
    "oov_tok = \"<OOV>\"\n",
    "\n",
    "from tensorflow.keras.preprocessing.text import Tokenizer\n",
    "from tensorflow.keras.preprocessing.sequence import pad_sequences\n",
    "\n",
    "tokenizer = Tokenizer(num_words = vocab_size, oov_token = oov_tok)\n",
    "tokenizer.fit_on_texts(train_sentences)\n",
    "word_index = tokenizer.word_index"
   ]
  },
  {
   "cell_type": "code",
   "execution_count": 5,
   "id": "3a269f88",
   "metadata": {
    "execution": {
     "iopub.execute_input": "2023-05-12T15:44:12.077941Z",
     "iopub.status.busy": "2023-05-12T15:44:12.076909Z",
     "iopub.status.idle": "2023-05-12T15:44:12.221757Z",
     "shell.execute_reply": "2023-05-12T15:44:12.220827Z"
    },
    "papermill": {
     "duration": 0.15287,
     "end_time": "2023-05-12T15:44:12.224916",
     "exception": false,
     "start_time": "2023-05-12T15:44:12.072046",
     "status": "completed"
    },
    "tags": []
   },
   "outputs": [],
   "source": [
    "sequences = tokenizer.texts_to_sequences(train_sentences)\n",
    "\n",
    "#introduce padding to make sure all sentences have the same length for purposes of analysis by the RNN\n",
    "padded = pad_sequences(sequences, maxlen=max_length, padding=padding_type, truncating=trunc_type)\n",
    "\n",
    "test_sequences = tokenizer.texts_to_sequences(test_sentences)\n",
    "test_padded = pad_sequences(test_sequences, maxlen=max_length, padding=padding_type, truncating=trunc_type)\n"
   ]
  },
  {
   "cell_type": "code",
   "execution_count": 6,
   "id": "355658bd",
   "metadata": {
    "execution": {
     "iopub.execute_input": "2023-05-12T15:44:12.236070Z",
     "iopub.status.busy": "2023-05-12T15:44:12.235579Z",
     "iopub.status.idle": "2023-05-12T15:44:12.496647Z",
     "shell.execute_reply": "2023-05-12T15:44:12.495574Z"
    },
    "papermill": {
     "duration": 0.271922,
     "end_time": "2023-05-12T15:44:12.501218",
     "exception": false,
     "start_time": "2023-05-12T15:44:12.229296",
     "status": "completed"
    },
    "tags": []
   },
   "outputs": [
    {
     "name": "stdout",
     "output_type": "stream",
     "text": [
      "Model: \"sequential\"\n",
      "_________________________________________________________________\n",
      " Layer (type)                Output Shape              Param #   \n",
      "=================================================================\n",
      " embedding (Embedding)       (None, 100, 16)           16000     \n",
      "                                                                 \n",
      " flatten (Flatten)           (None, 1600)              0         \n",
      "                                                                 \n",
      " dense (Dense)               (None, 6)                 9606      \n",
      "                                                                 \n",
      " dense_1 (Dense)             (None, 1)                 7         \n",
      "                                                                 \n",
      "=================================================================\n",
      "Total params: 25,613\n",
      "Trainable params: 25,613\n",
      "Non-trainable params: 0\n",
      "_________________________________________________________________\n"
     ]
    }
   ],
   "source": [
    "#the recurrent neural network (RNN) is built and trained across 20 epochs, \n",
    "#the input layer is comprised of an embedding layer which represents the sentences with \n",
    "#dense vector representation\n",
    "\n",
    "model = tf.keras.Sequential([\n",
    "    tf.keras.layers.Embedding(vocab_size, embedding_dimension, input_length=max_length),\n",
    "    tf.keras.layers.Flatten(),\n",
    "    tf.keras.layers.Dense(6, activation='relu'),\n",
    "    tf.keras.layers.Dense(1, activation='sigmoid')\n",
    "])\n",
    "model.compile(loss='binary_crossentropy',optimizer='adam',metrics=['accuracy'])\n",
    "model.summary()"
   ]
  },
  {
   "cell_type": "code",
   "execution_count": 7,
   "id": "b1d73663",
   "metadata": {
    "execution": {
     "iopub.execute_input": "2023-05-12T15:44:12.512052Z",
     "iopub.status.busy": "2023-05-12T15:44:12.511549Z",
     "iopub.status.idle": "2023-05-12T15:44:21.631476Z",
     "shell.execute_reply": "2023-05-12T15:44:21.630200Z"
    },
    "papermill": {
     "duration": 9.128447,
     "end_time": "2023-05-12T15:44:21.634303",
     "exception": false,
     "start_time": "2023-05-12T15:44:12.505856",
     "status": "completed"
    },
    "tags": []
   },
   "outputs": [
    {
     "name": "stdout",
     "output_type": "stream",
     "text": [
      "Epoch 1/20\n",
      "140/140 [==============================] - 2s 4ms/step - loss: 0.3023 - accuracy: 0.8622 - val_loss: 0.1727 - val_accuracy: 0.8700\n",
      "Epoch 2/20\n",
      "140/140 [==============================] - 0s 3ms/step - loss: 0.1419 - accuracy: 0.9531 - val_loss: 0.0794 - val_accuracy: 0.9767\n",
      "Epoch 3/20\n",
      "140/140 [==============================] - 0s 3ms/step - loss: 0.0576 - accuracy: 0.9845 - val_loss: 0.0541 - val_accuracy: 0.9830\n",
      "Epoch 4/20\n",
      "140/140 [==============================] - 0s 3ms/step - loss: 0.0391 - accuracy: 0.9895 - val_loss: 0.0514 - val_accuracy: 0.9839\n",
      "Epoch 5/20\n",
      "140/140 [==============================] - 0s 3ms/step - loss: 0.0299 - accuracy: 0.9917 - val_loss: 0.0483 - val_accuracy: 0.9830\n",
      "Epoch 6/20\n",
      "140/140 [==============================] - 0s 3ms/step - loss: 0.0220 - accuracy: 0.9948 - val_loss: 0.0478 - val_accuracy: 0.9865\n",
      "Epoch 7/20\n",
      "140/140 [==============================] - 0s 3ms/step - loss: 0.0174 - accuracy: 0.9957 - val_loss: 0.0533 - val_accuracy: 0.9865\n",
      "Epoch 8/20\n",
      "140/140 [==============================] - 0s 3ms/step - loss: 0.0145 - accuracy: 0.9966 - val_loss: 0.0512 - val_accuracy: 0.9857\n",
      "Epoch 9/20\n",
      "140/140 [==============================] - 0s 3ms/step - loss: 0.0122 - accuracy: 0.9975 - val_loss: 0.0550 - val_accuracy: 0.9865\n",
      "Epoch 10/20\n",
      "140/140 [==============================] - 0s 3ms/step - loss: 0.0100 - accuracy: 0.9984 - val_loss: 0.0570 - val_accuracy: 0.9848\n",
      "Epoch 11/20\n",
      "140/140 [==============================] - 0s 3ms/step - loss: 0.0087 - accuracy: 0.9984 - val_loss: 0.0592 - val_accuracy: 0.9865\n",
      "Epoch 12/20\n",
      "140/140 [==============================] - 0s 3ms/step - loss: 0.0074 - accuracy: 0.9984 - val_loss: 0.0621 - val_accuracy: 0.9839\n",
      "Epoch 13/20\n",
      "140/140 [==============================] - 0s 3ms/step - loss: 0.0069 - accuracy: 0.9987 - val_loss: 0.0672 - val_accuracy: 0.9865\n",
      "Epoch 14/20\n",
      "140/140 [==============================] - 0s 3ms/step - loss: 0.0057 - accuracy: 0.9987 - val_loss: 0.0647 - val_accuracy: 0.9865\n",
      "Epoch 15/20\n",
      "140/140 [==============================] - 0s 3ms/step - loss: 0.0046 - accuracy: 0.9989 - val_loss: 0.0690 - val_accuracy: 0.9865\n",
      "Epoch 16/20\n",
      "140/140 [==============================] - 0s 3ms/step - loss: 0.0044 - accuracy: 0.9989 - val_loss: 0.0680 - val_accuracy: 0.9857\n",
      "Epoch 17/20\n",
      "140/140 [==============================] - 0s 3ms/step - loss: 0.0039 - accuracy: 0.9991 - val_loss: 0.0725 - val_accuracy: 0.9865\n",
      "Epoch 18/20\n",
      "140/140 [==============================] - 0s 3ms/step - loss: 0.0033 - accuracy: 0.9989 - val_loss: 0.0722 - val_accuracy: 0.9874\n",
      "Epoch 19/20\n",
      "140/140 [==============================] - 0s 3ms/step - loss: 0.0031 - accuracy: 0.9991 - val_loss: 0.0733 - val_accuracy: 0.9857\n",
      "Epoch 20/20\n",
      "140/140 [==============================] - 0s 3ms/step - loss: 0.0026 - accuracy: 0.9993 - val_loss: 0.0753 - val_accuracy: 0.9857\n"
     ]
    }
   ],
   "source": [
    "num_epochs = 20\n",
    "history=model.fit(padded, train_labels_arr, epochs=num_epochs, validation_data=(test_padded,test_labels_arr))"
   ]
  }
 ],
 "metadata": {
  "kernelspec": {
   "display_name": "Python 3",
   "language": "python",
   "name": "python3"
  },
  "language_info": {
   "codemirror_mode": {
    "name": "ipython",
    "version": 3
   },
   "file_extension": ".py",
   "mimetype": "text/x-python",
   "name": "python",
   "nbconvert_exporter": "python",
   "pygments_lexer": "ipython3",
   "version": "3.10.10"
  },
  "papermill": {
   "default_parameters": {},
   "duration": 31.536621,
   "end_time": "2023-05-12T15:44:24.493067",
   "environment_variables": {},
   "exception": null,
   "input_path": "__notebook__.ipynb",
   "output_path": "__notebook__.ipynb",
   "parameters": {},
   "start_time": "2023-05-12T15:43:52.956446",
   "version": "2.4.0"
  }
 },
 "nbformat": 4,
 "nbformat_minor": 5
}
